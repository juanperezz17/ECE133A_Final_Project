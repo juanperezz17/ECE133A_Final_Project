{
  "nbformat": 4,
  "nbformat_minor": 0,
  "metadata": {
    "colab": {
      "provenance": []
    },
    "kernelspec": {
      "name": "python3",
      "display_name": "Python 3"
    },
    "language_info": {
      "name": "python"
    }
  },
  "cells": [
    {
      "cell_type": "code",
      "execution_count": 19,
      "metadata": {
        "id": "wWW6pnedjPlv"
      },
      "outputs": [],
      "source": [
        "#import stuff here\n",
        "import math\n",
        "import numpy as np\n",
        "import matplotlib.pyplot as plt\n",
        "from sklearn.linear_model import LinearRegression"
      ]
    },
    {
      "cell_type": "code",
      "source": [
        "#The file \"Stand_Data.csv\" generated from \"Standardization.ipynb\" is required\n",
        "file_dir = \"Stand_Data.csv\"\n",
        "data = np.loadtxt(file_dir, delimiter=\",\")\n",
        "print(np.shape(data))"
      ],
      "metadata": {
        "colab": {
          "base_uri": "https://localhost:8080/"
        },
        "id": "the_Cj9wTUtU",
        "outputId": "c06a6627-03cb-4309-a6b7-8f4432d40a52"
      },
      "execution_count": 20,
      "outputs": [
        {
          "output_type": "stream",
          "name": "stdout",
          "text": [
            "(39644, 58)\n"
          ]
        }
      ]
    },
    {
      "cell_type": "markdown",
      "source": [
        "# PART A:\n",
        "Start with a basic linear model (the features are only standardized and are used as they are\n",
        "without any transformations) regardless if you are doing the least-squares data fitting (Chapter\n",
        "13) or the least-squares classification (Chapter 14) task. Evaluate the initial model using cross-\n",
        "validation and report the RMS error. Make sure to save the model parameters for each fold of\n",
        "the cross-validation."
      ],
      "metadata": {
        "id": "-AqvdzahS1eW"
      }
    },
    {
      "cell_type": "code",
      "source": [
        "#The file 'OnlineNewsPopularity.csv' from https://archive.ics.uci.edu/dataset/332/online+news+popularity is required\n",
        "file_dir2 = 'OnlineNewsPopularity.csv'\n",
        "columns = [60]\n",
        "target = np.loadtxt(file_dir2, delimiter = ',', skiprows=1, usecols = columns)\n",
        "print(np.shape(target))"
      ],
      "metadata": {
        "colab": {
          "base_uri": "https://localhost:8080/"
        },
        "id": "VcoKBL-hTxCL",
        "outputId": "0c0e5ecf-8b85-475b-b0d1-8032b71e3471"
      },
      "execution_count": 21,
      "outputs": [
        {
          "output_type": "stream",
          "name": "stdout",
          "text": [
            "(39644,)\n"
          ]
        }
      ]
    },
    {
      "cell_type": "markdown",
      "source": [
        "##Linear Model"
      ],
      "metadata": {
        "id": "5cBlwwJv_Vhd"
      }
    },
    {
      "cell_type": "code",
      "source": [
        "#Add a column of 1's to A\n",
        "A = np.vstack((A.T, np.ones(39644))).T\n",
        "print(np.shape(A))\n",
        "\n",
        "#solve least squares problem\n",
        "params = np.linalg.lstsq(A, target, rcond=None)[0]"
      ],
      "metadata": {
        "colab": {
          "base_uri": "https://localhost:8080/"
        },
        "id": "A9JLnDzF8j5O",
        "outputId": "bb0993a7-5da0-449a-8543-333bf612b4af"
      },
      "execution_count": 129,
      "outputs": [
        {
          "output_type": "stream",
          "name": "stdout",
          "text": [
            "(39644, 62)\n"
          ]
        }
      ]
    },
    {
      "cell_type": "code",
      "source": [
        "reg = LinearRegression().fit(data, target)\n",
        "print(reg.score(data, target))\n",
        "print(reg.coef_)\n",
        "print(reg.intercept_)"
      ],
      "metadata": {
        "colab": {
          "base_uri": "https://localhost:8080/"
        },
        "id": "hbwXWeErCXsV",
        "outputId": "24d84cf4-a9e2-4c0d-90d3-3a748a28b1bd"
      },
      "execution_count": 23,
      "outputs": [
        {
          "output_type": "stream",
          "name": "stdout",
          "text": [
            "0.023098604445738635\n",
            "[ 1.89845866e+02  2.79199628e+02  1.40354092e+04 -7.74717824e+03\n",
            " -5.36557893e+03  3.01105309e+02 -2.22768900e+02  9.90186708e+01\n",
            "  2.31069703e+01 -4.96068872e+02  9.44345146e+01 -2.35605401e+02\n",
            " -4.51192773e+02 -2.92704010e+02 -1.41723834e+02 -2.14108343e+02\n",
            " -1.97433062e+02  1.53620715e+02  3.36329426e+02 -2.15662788e+02\n",
            " -1.20042659e+02 -1.10894755e+02 -9.74003017e+01 -4.15916996e+02\n",
            " -1.23586038e+03  2.19189149e+03  5.16418761e+02  2.36146814e+02\n",
            " -1.39797971e+02  8.72869378e+14  9.09177069e+14  9.11304618e+14\n",
            "  9.03296539e+14  8.19190857e+14 -5.00166667e+14 -5.26306598e+14\n",
            "  1.48772302e+15  4.67859219e+04  3.88980000e+04  4.98392812e+04\n",
            "  5.23865312e+04  5.13192188e+04  2.88812500e+02  6.42187500e+01\n",
            " -2.33359375e+02  2.15625000e+01  4.02687500e+02  3.12796875e+02\n",
            " -1.67828125e+02 -1.40914062e+02  8.65000000e+01 -2.19671875e+02\n",
            "  3.74375000e+01 -1.76250000e+01 -3.22343750e+01  5.61250000e+01\n",
            "  1.21375000e+02  1.38031250e+02]\n",
            "3397.329624130047\n"
          ]
        }
      ]
    },
    {
      "cell_type": "markdown",
      "source": [
        "##Cross Validation"
      ],
      "metadata": {
        "id": "ntQ3k7Z2_pae"
      }
    },
    {
      "cell_type": "markdown",
      "source": [
        "###Calculate RMS"
      ],
      "metadata": {
        "id": "6wL905kuIaf5"
      }
    },
    {
      "cell_type": "code",
      "source": [
        "def RME(x_test, y_test, params):\n",
        "  preds = []\n",
        "  data_size = x_test.shape[0]\n",
        "  for i in range(data_size):\n",
        "    pred = np.dot(x_test[i], params[:58]) + params[58]\n",
        "    preds.append(pred)\n",
        "  return math.sqrt((np.sum(np.square(np.subtract(y_test, preds))))/data_size)\n",
        "\n",
        "print(RME(data,target,params))\n",
        "coef = np.ndarray.tolist(reg.coef_)\n",
        "coef.append(reg.intercept_)\n",
        "print(RME(data,target,coef))"
      ],
      "metadata": {
        "colab": {
          "base_uri": "https://localhost:8080/"
        },
        "id": "IF8h1hmPIYUV",
        "outputId": "beed61aa-666b-490b-cd57-b6dca8ade73a"
      },
      "execution_count": 24,
      "outputs": [
        {
          "output_type": "stream",
          "name": "stdout",
          "text": [
            "11491.736924948345\n",
            "11491.738500150483\n"
          ]
        }
      ]
    },
    {
      "cell_type": "markdown",
      "source": [
        "###Cross Validation Folds"
      ],
      "metadata": {
        "id": "4aXFuELsajmx"
      }
    },
    {
      "cell_type": "code",
      "source": [
        "#5 folds, indexes: [0-7928, 7929-15857, 15858-23786, 23787-31715, 31716-39643]\n",
        "#fold 1\n",
        "x_train1 = A[7929:,:]\n",
        "x_test1 = data[:7979,:]\n",
        "y_train1 = target[7929:]\n",
        "y_test1 = target[:7979]\n",
        "params1 = np.linalg.lstsq(x_train1, y_train1, rcond=None)[0]\n",
        "print(RME(x_test1, y_test1, params1))\n",
        "\n",
        "#fold 2\n",
        "x_train2 = np.vstack((A[:7929,:], A[15858:,:]))\n",
        "x_test2 = data[7929:15858,:]\n",
        "y_train2 = np.concatenate((target[:7929], target[15858:]))\n",
        "y_test2 = target[7929:15858]\n",
        "params2 = np.linalg.lstsq(x_train2, y_train2, rcond=None)[0]\n",
        "print(RME(x_test2, y_test2, params2))\n",
        "\n",
        "#fold 3\n",
        "x_train3 = np.vstack((A[:15858,:], A[23787:,:]))\n",
        "x_test3 = data[15858:23787,:]\n",
        "y_train3 = np.concatenate((target[:15858], target[23787:]))\n",
        "y_test3 = target[15858:23787]\n",
        "params3 = np.linalg.lstsq(x_train3, y_train3, rcond=None)[0]\n",
        "print(RME(x_test3, y_test3, params3))\n",
        "\n",
        "#fold 4\n",
        "x_train4 = np.vstack((A[:23787,:], A[31716:,:]))\n",
        "x_test4 = data[23787:31716,:]\n",
        "y_train4 = np.concatenate((target[:23787], target[31716:]))\n",
        "y_test4 = target[23787:31716]\n",
        "params4 = np.linalg.lstsq(x_train4, y_train4, rcond=None)[0]\n",
        "print(RME(x_test4, y_test4, params4))\n",
        "\n",
        "#fold 5\n",
        "x_train5 = A[:31716,:]\n",
        "x_test5 = data[31716:,:]\n",
        "y_train5 = target[:31716]\n",
        "y_test5 = target[31716:]\n",
        "params5 = np.linalg.lstsq(x_train5, y_train5, rcond=None)[0]\n",
        "print(RME(x_test5, y_test5, params5))\n",
        "\n",
        "params_mean = np.zeros(59)\n",
        "for i in range(59):\n",
        "  params_mean[i] = (params1[i] + params2[i] + params3[i] + params4[i] + params5[i])/5\n",
        "print(params_mean)\n",
        "print(RME(data, target, params_mean))"
      ],
      "metadata": {
        "colab": {
          "base_uri": "https://localhost:8080/"
        },
        "id": "TebhSeCz_xsy",
        "outputId": "48c21715-9e17-4908-b923-b4d12031097c"
      },
      "execution_count": 45,
      "outputs": [
        {
          "output_type": "stream",
          "name": "stdout",
          "text": [
            "12953.320171324669\n",
            "12239.761413595115\n",
            "15904.998478589145\n",
            "6448.062377989492\n",
            "8065.5797471211845\n",
            "[ 1.93183271e+02  2.79467470e+02  1.39594358e+04 -7.75906090e+03\n",
            " -5.37010981e+03  2.99101043e+02 -2.24465857e+02  9.88806733e+01\n",
            "  2.28850195e+01 -4.90113394e+02  9.42644785e+01 -2.34176560e+02\n",
            " -4.46304487e+02 -2.92432699e+02 -1.41167300e+02 -2.10694411e+02\n",
            " -1.96441232e+02  5.14385344e+02  3.21578383e+02 -2.08153748e+02\n",
            " -1.21176208e+02 -3.60169696e+01 -9.01767456e+01 -4.13899817e+02\n",
            " -1.23643857e+03  2.18716540e+03  5.47126462e+02  2.60357990e+02\n",
            " -1.74665573e+02  1.38838178e+02 -6.55808563e+01 -3.95252864e-01\n",
            " -6.91592809e+01 -4.85235653e+01  8.37596964e+01 -1.02961954e+01\n",
            "  5.20886380e+01  4.46662382e+04  3.71285319e+04  4.75702330e+04\n",
            "  5.00068734e+04  4.89914829e+04  2.87023955e+02  6.52627604e+01\n",
            " -2.35642812e+02  2.39569710e+01  4.07141766e+02  3.13425982e+02\n",
            " -1.70016049e+02 -1.38700370e+02  8.49504088e+01 -2.16056166e+02\n",
            "  3.49133616e+01 -1.81779533e+01 -3.25026155e+01  5.59411916e+01\n",
            "  1.22358404e+02  1.39768790e+02  3.49569809e+03]\n",
            "11496.127994612107\n"
          ]
        }
      ]
    },
    {
      "cell_type": "markdown",
      "source": [
        "#PART B:\n",
        "Perform feature engineering. Come up with more interesting feature mappings or basis functions\n",
        "for the linear least-squares data fitting or the linear least-squares classifier. For example, try out\n",
        "a stratified model (Chapter 13.3.2) using the results of the k-means clustering you did earlier.\n",
        "Choose the best model using cross-validation and report the RMS error. Make sure to save the\n",
        "model parameters for each fold of the cross-validation. If you are doing classification, report the\n",
        "confusion matrix for the best model you found."
      ],
      "metadata": {
        "id": "F-pUCmQrbAlB"
      }
    },
    {
      "cell_type": "markdown",
      "source": [
        "##Product Interactions"
      ],
      "metadata": {
        "id": "r8w0loMMdZiE"
      }
    },
    {
      "cell_type": "markdown",
      "source": [
        "###Determining 5 least significant factors"
      ],
      "metadata": {
        "id": "yp6KylFPf37u"
      }
    },
    {
      "cell_type": "code",
      "source": [
        "params_abs = abs(np.array(params[:58]))\n",
        "indexes = list(range(0,58))\n",
        "stack = np.vstack((indexes, params_abs))\n",
        "stack = stack.T\n",
        "sorted = stack[stack[:,1].argsort()]\n",
        "print(sorted[:5])\n",
        "worst_indexes = [31, 35, 53, 45, 8]\n"
      ],
      "metadata": {
        "colab": {
          "base_uri": "https://localhost:8080/"
        },
        "id": "Z7uG6jIxbJHt",
        "outputId": "018b8842-ad2f-4909-fdb0-298054181525"
      },
      "execution_count": 109,
      "outputs": [
        {
          "output_type": "stream",
          "name": "stdout",
          "text": [
            "[[31.          0.43554399]\n",
            " [35.         10.367335  ]\n",
            " [53.         17.43081268]\n",
            " [45.         22.70689072]\n",
            " [ 8.         23.18702348]]\n"
          ]
        }
      ]
    },
    {
      "cell_type": "markdown",
      "source": [
        "#Performing Feature Engineering"
      ],
      "metadata": {
        "id": "oWf9_XKQmW8U"
      }
    },
    {
      "cell_type": "code",
      "source": [
        "B=data.T\n",
        "print(np.shape(B))\n",
        "i = 0 #\n",
        "j = 0\n",
        "for i in range(5):\n",
        "  bad_index = worst_indexes[i]\n",
        "  for j in range(58):\n",
        "    feature_added = []\n",
        "    if i==j:\n",
        "      continue\n",
        "    else:\n",
        "      for k in range(39644):\n",
        "        feature_added.append(B[bad_index,k]*B[j,k])\n",
        "      B = np.vstack((B,feature_added))\n",
        "newdata = B.T\n",
        "B = np.vstack((B,np.ones(39644)))\n",
        "B = B.T\n",
        "print(np.shape(newdata))\n",
        "print(np.shape(B))\n",
        "print(\"done\")"
      ],
      "metadata": {
        "colab": {
          "base_uri": "https://localhost:8080/"
        },
        "id": "6NQu9aRcmkTW",
        "outputId": "8c4114ef-60bf-40cb-e383-e911795aaa57"
      },
      "execution_count": 131,
      "outputs": [
        {
          "output_type": "stream",
          "name": "stdout",
          "text": [
            "(58, 39644)\n",
            "(39644, 343)\n",
            "(39644, 344)\n",
            "done\n"
          ]
        }
      ]
    },
    {
      "cell_type": "code",
      "source": [
        "def newRME(x_test, y_test, params):\n",
        "  preds = []\n",
        "  data_size = x_test.shape[0]\n",
        "  for i in range(data_size):\n",
        "    pred = np.dot(x_test[i], params[:343]) + params[343]\n",
        "    preds.append(pred)\n",
        "  return math.sqrt((np.sum(np.square(np.subtract(y_test, preds))))/data_size)"
      ],
      "metadata": {
        "id": "URD4JFZRt82H"
      },
      "execution_count": 135,
      "outputs": []
    },
    {
      "cell_type": "code",
      "source": [
        "newparams = np.linalg.lstsq(B, target, rcond=None)[0]\n",
        "print(newRME(newdata,target,newparams))\n",
        "\n",
        "#5 folds, indexes: [0-7928, 7929-15857, 15858-23786, 23787-31715, 31716-39643]\n",
        "#fold 1\n",
        "newx_train1 = B[7929:,:]\n",
        "newx_test1 = newdata[:7979,:]\n",
        "newy_train1 = target[7929:]\n",
        "newy_test1 = target[:7979]\n",
        "newparams1 = np.linalg.lstsq(newx_train1, newy_train1, rcond=None)[0]\n",
        "print(newRME(newx_test1, newy_test1, newparams1))\n",
        "\n",
        "\n",
        "#fold 2\n",
        "newx_train2 = np.vstack((B[:7929,:], B[15858:,:]))\n",
        "newx_test2 = newdata[7929:15858,:]\n",
        "newy_train2 = np.concatenate((target[:7929], target[15858:]))\n",
        "newy_test2 = target[7929:15858]\n",
        "newparams2 = np.linalg.lstsq(newx_train2, newy_train2, rcond=None)[0]\n",
        "print(newRME(newx_test2, newy_test2, newparams2))\n",
        "\n",
        "\n",
        "#fold 3\n",
        "newx_train3 = np.vstack((B[:15858,:], B[23787:,:]))\n",
        "newx_test3 = newdata[15858:23787,:]\n",
        "newy_train3 = np.concatenate((target[:15858], target[23787:]))\n",
        "newy_test3 = target[15858:23787]\n",
        "newparams3 = np.linalg.lstsq(newx_train3, newy_train3, rcond=None)[0]\n",
        "print(newRME(newx_test3, newy_test3, newparams3))\n",
        "\n",
        "\n",
        "#fold 4\n",
        "newx_train4 = np.vstack((B[:23787,:], B[31716:,:]))\n",
        "newx_test4 = newdata[23787:31716,:]\n",
        "newy_train4 = np.concatenate((target[:23787], target[31716:]))\n",
        "newy_test4 = target[23787:31716]\n",
        "newparams4 = np.linalg.lstsq(newx_train4, newy_train4, rcond=None)[0]\n",
        "print(newRME(newx_test4, newy_test4, newparams4))\n",
        "\n",
        "\n",
        "#fold 5\n",
        "newx_train5 = B[:31716,:]\n",
        "newx_test5 = newdata[31716:,:]\n",
        "newy_train5 = target[:31716]\n",
        "newy_test5 = target[31716:]\n",
        "newparams5 = np.linalg.lstsq(newx_train5, newy_train5, rcond=None)[0]\n",
        "print(newRME(newx_test5, newy_test5, newparams5))\n",
        "\n",
        "\n",
        "newparams_mean = np.zeros(344)\n",
        "for i in range(344):\n",
        " newparams_mean[i] = (newparams1[i] + newparams2[i] + newparams3[i] + newparams4[i] + newparams5[i])/5\n",
        "print(newparams_mean)\n",
        "print(newRME(newdata, target, newparams_mean))"
      ],
      "metadata": {
        "colab": {
          "base_uri": "https://localhost:8080/"
        },
        "id": "U7EixNX5qy7J",
        "outputId": "3eed54bd-f3e0-48f1-fedc-a68ae7ac40b2"
      },
      "execution_count": 139,
      "outputs": [
        {
          "output_type": "stream",
          "name": "stdout",
          "text": [
            "11428.975821072636\n",
            "15793.413283047772\n",
            "12375.805830382373\n",
            "15960.516358128973\n",
            "112515.07525027993\n",
            "8171.10216403552\n",
            "[ 1.95258984e+02  9.33575605e+01  2.92553128e+03 -2.61191699e+11\n",
            " -1.30587235e+03  3.17092988e+02 -2.16700019e+02  1.43966008e+02\n",
            "  8.15112957e+02 -2.07730129e+02  6.67421104e+01 -2.08774217e+02\n",
            " -4.63958465e+02 -2.31174625e+02 -1.82990814e+02 -2.34236207e+02\n",
            " -2.29608133e+02  5.36653552e+02  2.82625995e+02 -1.62371625e+02\n",
            " -1.20224005e+02  2.40165811e+01 -1.46354478e+02 -3.92366746e+02\n",
            " -1.14247044e+03  2.07478522e+03  5.53039458e+02  1.52650982e+02\n",
            " -5.50407039e+01  1.43499009e+08  1.50804923e+08 -5.58756148e+08\n",
            "  1.49576584e+08  1.33168943e+08  1.24382140e+08 -1.13732549e+08\n",
            "  3.38004629e+06  1.00234327e+06  8.37231922e+05  1.07502737e+06\n",
            "  1.12498227e+06  1.10216149e+06  1.88532895e+02  7.28684788e+01\n",
            " -4.15269033e+02  3.03487687e+08  1.31804194e+09  1.08208780e+09\n",
            " -1.53947421e+02 -1.44153373e+02  9.51504992e+01 -9.13938278e+01\n",
            " -9.60573496e+01 -2.81707123e+08 -2.98531454e+01  6.07529210e+01\n",
            "  1.31003753e+02  1.45403100e+02  5.62165393e+02 -6.85827530e+03\n",
            " -3.33732269e+11  3.55239910e+03  2.02966641e+02 -2.24762320e+02\n",
            " -8.46720906e+01 -6.06438620e+03  9.12399102e+01  9.80978498e+01\n",
            " -1.45397447e+02 -8.08669344e+01 -2.79975061e+02 -8.98459906e+01\n",
            " -3.47254369e+01 -2.55465156e+02 -6.03017762e+02  3.38849036e+02\n",
            " -4.05603742e+02 -5.02891991e+01 -3.34964555e+02  1.90934115e+02\n",
            "  1.88846105e+02  1.86904969e+02 -2.98016836e+02 -4.89850831e+02\n",
            " -2.95425207e+02  5.47422116e+02  8.48390554e+07  9.14173653e+07\n",
            " -4.43771064e+08  9.02604643e+07  7.61974367e+07  2.81215596e+07\n",
            "  1.47830101e+08  1.31238888e+08 -7.07845061e+05 -5.91502145e+05\n",
            " -7.59545824e+05 -7.94607999e+05 -7.78537265e+05 -1.31901420e+02\n",
            "  4.89651902e+02 -7.44259170e+01 -2.85400985e+04  1.21344268e+10\n",
            "  9.96214099e+09 -3.62660623e+02  3.25101124e+01 -8.14080734e+00\n",
            " -6.11300737e+02  6.30180755e+02 -1.20749323e+04  2.68619820e+01\n",
            " -4.35653606e+01 -1.84311480e+01  7.39246897e+01  2.59728962e+01\n",
            " -1.63968068e+03 -3.93236989e+09  1.77558340e+03  6.52087766e+01\n",
            " -3.13689776e+01 -7.56995487e-01  2.55040100e+04  4.61733359e+01\n",
            "  4.56215813e+01  2.99366687e+01  1.53298231e+02  8.76038654e+01\n",
            "  1.30584425e+02  2.00795485e+02  1.87013142e+02 -1.32291754e+02\n",
            " -1.07411860e+02  2.02018295e+02 -5.59123993e+00  6.36208267e+00\n",
            "  9.41854829e+01 -3.79659172e+01  3.13920636e+01 -5.72889103e+01\n",
            " -2.44592702e+02 -2.03795084e+02  2.22182538e+02 -4.31081173e+07\n",
            " -4.53709073e+07  1.47875706e+08 -4.50083874e+07 -3.99428939e+07\n",
            " -3.61856245e+07  6.39849492e+07  2.22757216e+07  3.49688643e+04\n",
            "  2.92395843e+04  3.74029305e+04  3.92346480e+04  3.84395260e+04\n",
            " -7.35496093e+01  1.97983712e+02 -6.49956034e+01  1.78938246e+04\n",
            "  1.42979967e+08  1.17383991e+08  1.56516987e+01  8.51738894e-01\n",
            " -4.55972648e+01 -7.02435837e+01  5.18351455e+01  2.94850158e+03\n",
            "  9.46339954e+01 -2.82664237e+01  2.74785273e+01 -3.82672528e+01\n",
            " -1.11862004e+02  4.95450185e+02  8.85206020e+10 -3.25549947e+03\n",
            "  1.12291070e+02 -1.03005556e+02 -1.96365524e+02  1.63107095e+04\n",
            "  1.35735043e+02 -2.63726746e+01  1.41108765e+01  4.65112593e+01\n",
            " -3.29609141e+00  9.16188010e+00  1.37625964e+02 -7.30415160e+01\n",
            " -4.57175658e+02 -7.43218869e+02  5.30214075e+02  8.44831078e+01\n",
            " -8.74325543e+01 -2.34124629e+02  1.12819426e+02  8.00389365e+01\n",
            "  1.76216058e+01  1.14601279e+02  5.68487931e+02 -6.43755543e+02\n",
            "  6.72530528e+03  7.15091028e+03  1.94575585e+04  6.98316917e+03\n",
            "  6.46057042e+03  1.37795092e+04  1.16528890e+04 -1.32211493e+04\n",
            "  2.53616259e+06  2.11890265e+06  2.72115957e+06  2.84692067e+06\n",
            "  2.78898934e+06 -2.32776058e+01  4.80226595e+01  4.47812559e+01\n",
            "  2.27845694e+04  1.41112195e+09  1.15850526e+09  1.02370686e+02\n",
            " -6.23007813e+00 -5.93334805e+01 -2.50611705e+02  7.16487627e+02\n",
            " -9.65149010e+01  4.73222362e+01 -5.94958686e+01 -4.95860857e+01\n",
            "  1.06320015e+01 -5.76781054e+01 -6.56050266e+01  6.90969275e+03\n",
            " -3.46929652e+03  6.37887983e+01 -2.46262445e+00  2.91904108e+01\n",
            "  1.61320302e+04 -9.22711438e+01  8.28135353e+01  1.18140312e+02\n",
            "  1.26728624e+02  3.39403696e+02  9.43488272e+01  3.21679281e+02\n",
            "  1.29326756e+02  3.04741256e+01  1.70117906e+02 -3.36945198e+02\n",
            "  3.12661024e+01 -6.15469954e+01 -1.97685573e+02 -1.37898321e+02\n",
            " -3.96545629e+02  6.00365633e+02 -3.89163975e+02 -8.58139930e+02\n",
            "  1.14477776e+03 -1.56005524e+04 -1.62162455e+04  1.24535822e+04\n",
            " -1.61533907e+04 -1.46554509e+04  5.07503301e+03 -1.26062644e+04\n",
            " -2.11506434e+04  2.67372705e+06  2.23374121e+06  2.86859849e+06\n",
            "  3.00111423e+06  2.93999967e+06 -1.42593963e+02 -9.32422905e+00\n",
            " -2.51618705e+02  2.27761124e+01 -1.92953702e+09 -1.58411456e+09\n",
            " -6.50535504e+01  2.60324483e+00  8.59371888e+01 -2.69126192e+02\n",
            " -5.90701736e+01 -2.24552513e+04  3.41471000e+01  2.71224826e+01\n",
            " -1.98307872e+02 -4.48865762e+00  8.32480516e+01  8.31147481e+01\n",
            " -1.90005264e+02 -1.64448960e+04 -1.08940659e+02  6.02460205e+01\n",
            " -1.88949794e+02 -5.78444260e+01  8.41958632e+02 -3.12958545e+01\n",
            "  2.95450588e+02 -4.81041758e+01  4.31932735e+02  9.81034956e+00\n",
            "  1.33868748e+02  1.33436843e+02  2.75127948e+02 -1.03449427e+03\n",
            "  1.22121570e+03 -2.34394149e+01  2.03496702e+02  4.27287988e+01\n",
            "  1.43566826e+02  1.09396099e+02 -3.24704143e+02  4.95100766e+02\n",
            "  1.08389772e+02 -1.07091432e+02  2.05383668e+04  2.12562253e+04\n",
            "  2.73056300e+04  2.11376444e+04  1.91970764e+04  1.70445681e+04\n",
            " -7.53848831e+03 -5.47713723e+03  5.36128757e+05  4.47994377e+05\n",
            "  5.75118375e+05  6.01951488e+05  5.89955724e+05 -6.57768431e+01\n",
            "  2.37253122e+02  1.97192258e+01 -1.60604901e+04 -2.99983757e+02\n",
            " -4.05637664e+01  2.40491718e+01 -7.84117556e+01  3.49887061e+01\n",
            " -1.29222311e+01  1.76709395e+01 -1.64576953e+04 -6.49004961e+01\n",
            "  3.90634323e+01  2.17209076e+02 -1.55028881e+01  4.50712884e+08]\n",
            "15240.724350230481\n"
          ]
        }
      ]
    }
  ]
}
