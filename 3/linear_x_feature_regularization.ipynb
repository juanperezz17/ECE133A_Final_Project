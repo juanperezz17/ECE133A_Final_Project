{
 "cells": [
  {
   "cell_type": "code",
   "execution_count": 28,
   "metadata": {
    "id": "wWW6pnedjPlv"
   },
   "outputs": [],
   "source": [
    "#import stuff here\n",
    "import math\n",
    "import numpy as np\n",
    "import matplotlib.pyplot as plt\n",
    "from sklearn.linear_model import LinearRegression"
   ]
  },
  {
   "cell_type": "code",
   "execution_count": 29,
   "metadata": {
    "colab": {
     "base_uri": "https://localhost:8080/"
    },
    "id": "the_Cj9wTUtU",
    "outputId": "c06a6627-03cb-4309-a6b7-8f4432d40a52"
   },
   "outputs": [
    {
     "name": "stdout",
     "output_type": "stream",
     "text": [
      "(39644, 58)\n"
     ]
    }
   ],
   "source": [
    "#The file \"Stand_Data.csv\" generated from \"Standardization.ipynb\" is required\n",
    "file_dir = \"Stand_Data.csv\"\n",
    "data = np.loadtxt(file_dir, delimiter=\",\")\n",
    "print(np.shape(data))"
   ]
  },
  {
   "cell_type": "markdown",
   "metadata": {
    "id": "-AqvdzahS1eW"
   },
   "source": [
    "# PART A:\n",
    "Start with a basic linear model (the features are only standardized and are used as they are\n",
    "without any transformations) regardless if you are doing the least-squares data fitting (Chapter\n",
    "13) or the least-squares classification (Chapter 14) task. Evaluate the initial model using cross-\n",
    "validation and report the RMS error. Make sure to save the model parameters for each fold of\n",
    "the cross-validation."
   ]
  },
  {
   "cell_type": "code",
   "execution_count": 30,
   "metadata": {
    "colab": {
     "base_uri": "https://localhost:8080/"
    },
    "id": "VcoKBL-hTxCL",
    "outputId": "0c0e5ecf-8b85-475b-b0d1-8032b71e3471"
   },
   "outputs": [
    {
     "name": "stdout",
     "output_type": "stream",
     "text": [
      "(39644,)\n"
     ]
    }
   ],
   "source": [
    "#The file 'OnlineNewsPopularity.csv' from https://archive.ics.uci.edu/dataset/332/online+news+popularity is required\n",
    "file_dir2 = 'OnlineNewsPopularity.csv'\n",
    "columns = [60]\n",
    "target = np.loadtxt(file_dir2, delimiter = ',', skiprows=1, usecols = columns)\n",
    "print(np.shape(target))"
   ]
  },
  {
   "cell_type": "markdown",
   "metadata": {
    "id": "5cBlwwJv_Vhd"
   },
   "source": [
    "##Linear Model"
   ]
  },
  {
   "cell_type": "code",
   "execution_count": 31,
   "metadata": {
    "colab": {
     "base_uri": "https://localhost:8080/"
    },
    "id": "A9JLnDzF8j5O",
    "outputId": "bb0993a7-5da0-449a-8543-333bf612b4af"
   },
   "outputs": [
    {
     "name": "stdout",
     "output_type": "stream",
     "text": [
      "(39644, 59)\n",
      "[[ 0.75744723 -0.69521045  0.03277187 ... -1.81071884  0.13891975\n",
      "   1.        ]\n",
      " [-0.66165665 -0.61879381  0.01605588 ...  0.83774863 -0.68965812\n",
      "   1.        ]\n",
      " [-0.66165665 -0.71219192  0.00764453 ...  0.83774863 -0.68965812\n",
      "   1.        ]\n",
      " ...\n",
      " [-0.18862202 -0.2218518  -0.00904959 ... -1.56994907 -0.08705603\n",
      "   1.        ]\n",
      " [-2.08076053  0.28759248 -0.00247749 ...  0.83774863 -0.68965812\n",
      "   1.        ]\n",
      " [-0.18862202 -0.82681689  0.04367671 ... -0.92789635  0.41511238\n",
      "   1.        ]]\n",
      "(59,)\n",
      "[ 1.89962795e+02  2.79654286e+02  1.40310024e+04 -7.76117453e+03\n",
      " -5.35589085e+03  3.00762239e+02 -2.22221887e+02  9.88583127e+01\n",
      "  2.31870235e+01 -4.95430281e+02  9.44888758e+01 -2.35128600e+02\n",
      " -4.51564914e+02 -2.92529788e+02 -1.41611488e+02 -2.14064273e+02\n",
      " -1.97638480e+02  1.53805975e+02  3.36320289e+02 -2.15280309e+02\n",
      " -1.19857701e+02 -1.10524449e+02 -9.70837737e+01 -4.16232920e+02\n",
      " -1.23578078e+03  2.19137426e+03  5.16251880e+02  2.36391271e+02\n",
      " -1.39912987e+02  1.38961826e+02 -6.51018979e+01 -4.35544003e-01\n",
      " -6.86977570e+01 -4.89422404e+01  8.28023518e+01 -1.03673350e+01\n",
      "  5.13513633e+01  4.63228682e+04  3.85116843e+04  4.93428518e+04\n",
      "  5.18673857e+04  5.08102072e+04  2.88261141e+02  6.58088213e+01\n",
      " -2.34055286e+02  2.27068907e+01  4.02727266e+02  3.12761138e+02\n",
      " -1.68729658e+02 -1.40101862e+02  8.65133333e+01 -2.20114596e+02\n",
      "  3.75902023e+01 -1.74308127e+01 -3.24860618e+01  5.64903137e+01\n",
      "  1.21674855e+02  1.38229516e+02  3.39538018e+03]\n"
     ]
    }
   ],
   "source": [
    "#Add a column of 1's to A\n",
    "A = data\n",
    "A = np.vstack((A.T, np.ones(39644))).T\n",
    "print(np.shape(A))\n",
    "\n",
    "#solve least squares problem\n",
    "params = np.linalg.lstsq(A, target, rcond=None)[0]\n",
    "print(A)\n",
    "print(params.shape)\n",
    "print(params)"
   ]
  },
  {
   "cell_type": "code",
   "execution_count": 32,
   "metadata": {
    "colab": {
     "base_uri": "https://localhost:8080/"
    },
    "id": "hbwXWeErCXsV",
    "outputId": "24d84cf4-a9e2-4c0d-90d3-3a748a28b1bd"
   },
   "outputs": [
    {
     "name": "stdout",
     "output_type": "stream",
     "text": [
      "0.02310029913793976\n",
      "[ 1.89885342e+02  2.75578056e+02  1.40646547e+04 -8.08461306e+03\n",
      " -5.41118165e+03  3.01387813e+02 -2.22590892e+02  9.79674269e+01\n",
      "  2.30460863e+01 -4.96275273e+02  9.53800618e+01 -2.31034113e+02\n",
      " -4.48680984e+02 -2.93608624e+02 -1.44016900e+02 -2.12867014e+02\n",
      " -1.97321928e+02  1.55145966e+02  3.33133295e+02 -2.11385383e+02\n",
      " -1.17317254e+02 -1.08609674e+02 -9.74203267e+01 -4.13097209e+02\n",
      " -1.23548504e+03  2.18920527e+03  5.18631343e+02  2.32458455e+02\n",
      " -1.37913286e+02 -4.76350833e+15 -4.96165022e+15 -4.97326088e+15\n",
      " -4.92955842e+15 -4.47056864e+15 -1.13935991e+16 -1.19890564e+16\n",
      "  1.16538264e+16  2.82459375e+04  2.34067500e+04  2.99490625e+04\n",
      "  3.15763750e+04  3.09303750e+04  2.89500000e+02  6.22500000e+01\n",
      " -2.26875000e+02  2.12500000e+01  4.18750000e+02  3.29062500e+02\n",
      " -1.68812500e+02 -1.45875000e+02  8.45000000e+01 -2.18375000e+02\n",
      "  3.90000000e+01 -1.90000000e+01 -3.48125000e+01  5.75000000e+01\n",
      "  1.17750000e+02  1.36250000e+02]\n",
      "3403.895166794159\n"
     ]
    }
   ],
   "source": [
    "reg = LinearRegression().fit(data, target)\n",
    "print(reg.score(data, target))\n",
    "print(reg.coef_)\n",
    "print(reg.intercept_)"
   ]
  },
  {
   "cell_type": "markdown",
   "metadata": {
    "id": "ntQ3k7Z2_pae"
   },
   "source": [
    "##Cross Validation"
   ]
  },
  {
   "cell_type": "markdown",
   "metadata": {
    "id": "6wL905kuIaf5"
   },
   "source": [
    "###Calculate RMS"
   ]
  },
  {
   "cell_type": "code",
   "execution_count": 33,
   "metadata": {
    "colab": {
     "base_uri": "https://localhost:8080/"
    },
    "id": "IF8h1hmPIYUV",
    "outputId": "beed61aa-666b-490b-cd57-b6dca8ade73a"
   },
   "outputs": [
    {
     "name": "stdout",
     "output_type": "stream",
     "text": [
      "11491.736924948345\n",
      "11491.750929050146\n"
     ]
    }
   ],
   "source": [
    "def RME(x_test, y_test, params):\n",
    "  preds = []\n",
    "  data_size = x_test.shape[0]\n",
    "  for i in range(data_size):\n",
    "    pred = np.dot(x_test[i], params[:58]) + params[58]\n",
    "    preds.append(pred)\n",
    "  return math.sqrt((np.sum(np.square(np.subtract(y_test, preds))))/data_size)\n",
    "\n",
    "print(RME(data,target,params))\n",
    "coef = np.ndarray.tolist(reg.coef_)\n",
    "coef.append(reg.intercept_)\n",
    "print(RME(data,target,coef))"
   ]
  },
  {
   "cell_type": "markdown",
   "metadata": {
    "id": "4aXFuELsajmx"
   },
   "source": [
    "###Cross Validation Folds"
   ]
  },
  {
   "cell_type": "code",
   "execution_count": 34,
   "metadata": {
    "colab": {
     "base_uri": "https://localhost:8080/"
    },
    "id": "TebhSeCz_xsy",
    "outputId": "48c21715-9e17-4908-b923-b4d12031097c"
   },
   "outputs": [
    {
     "name": "stdout",
     "output_type": "stream",
     "text": [
      "12953.320171324256\n",
      "12239.76141359509\n",
      "15904.998478589163\n",
      "6448.062377989548\n",
      "8065.5797471211845\n",
      "[ 1.93183271e+02  2.79467470e+02  1.39594358e+04 -7.75906090e+03\n",
      " -5.37010981e+03  2.99101043e+02 -2.24465857e+02  9.88806733e+01\n",
      "  2.28850195e+01 -4.90113394e+02  9.42644785e+01 -2.34176560e+02\n",
      " -4.46304487e+02 -2.92432699e+02 -1.41167300e+02 -2.10694411e+02\n",
      " -1.96441232e+02  5.14385344e+02  3.21578383e+02 -2.08153748e+02\n",
      " -1.21176208e+02 -3.60169696e+01 -9.01767456e+01 -4.13899817e+02\n",
      " -1.23643857e+03  2.18716540e+03  5.47126462e+02  2.60357990e+02\n",
      " -1.74665573e+02  1.38838178e+02 -6.55808564e+01 -3.95252998e-01\n",
      " -6.91592810e+01 -4.85235654e+01  8.37596961e+01 -1.02961957e+01\n",
      "  5.20886382e+01  4.46662382e+04  3.71285319e+04  4.75702330e+04\n",
      "  5.00068734e+04  4.89914829e+04  2.87023955e+02  6.52627604e+01\n",
      " -2.35642812e+02  2.39569710e+01  4.07141766e+02  3.13425982e+02\n",
      " -1.70016049e+02 -1.38700370e+02  8.49504088e+01 -2.16056166e+02\n",
      "  3.49133616e+01 -1.81779533e+01 -3.25026155e+01  5.59411916e+01\n",
      "  1.22358404e+02  1.39768790e+02  3.49569809e+03]\n",
      "11496.127994612103\n"
     ]
    }
   ],
   "source": [
    "#5 folds, indexes: [0-7928, 7929-15857, 15858-23786, 23787-31715, 31716-39643]\n",
    "#fold 1\n",
    "x_train1 = A[7929:,:]\n",
    "x_test1 = data[:7979,:]\n",
    "y_train1 = target[7929:]\n",
    "y_test1 = target[:7979]\n",
    "params1 = np.linalg.lstsq(x_train1, y_train1, rcond=None)[0]\n",
    "print(RME(x_test1, y_test1, params1))\n",
    "\n",
    "#fold 2\n",
    "x_train2 = np.vstack((A[:7929,:], A[15858:,:]))\n",
    "x_test2 = data[7929:15858,:]\n",
    "y_train2 = np.concatenate((target[:7929], target[15858:]))\n",
    "y_test2 = target[7929:15858]\n",
    "params2 = np.linalg.lstsq(x_train2, y_train2, rcond=None)[0]\n",
    "print(RME(x_test2, y_test2, params2))\n",
    "\n",
    "#fold 3\n",
    "x_train3 = np.vstack((A[:15858,:], A[23787:,:]))\n",
    "x_test3 = data[15858:23787,:]\n",
    "y_train3 = np.concatenate((target[:15858], target[23787:]))\n",
    "y_test3 = target[15858:23787]\n",
    "params3 = np.linalg.lstsq(x_train3, y_train3, rcond=None)[0]\n",
    "print(RME(x_test3, y_test3, params3))\n",
    "\n",
    "#fold 4\n",
    "x_train4 = np.vstack((A[:23787,:], A[31716:,:]))\n",
    "x_test4 = data[23787:31716,:]\n",
    "y_train4 = np.concatenate((target[:23787], target[31716:]))\n",
    "y_test4 = target[23787:31716]\n",
    "params4 = np.linalg.lstsq(x_train4, y_train4, rcond=None)[0]\n",
    "print(RME(x_test4, y_test4, params4))\n",
    "\n",
    "#fold 5\n",
    "x_train5 = A[:31716,:]\n",
    "x_test5 = data[31716:,:]\n",
    "y_train5 = target[:31716]\n",
    "y_test5 = target[31716:]\n",
    "params5 = np.linalg.lstsq(x_train5, y_train5, rcond=None)[0]\n",
    "print(RME(x_test5, y_test5, params5))\n",
    "\n",
    "params_mean = np.zeros(59)\n",
    "for i in range(59):\n",
    "  params_mean[i] = (params1[i] + params2[i] + params3[i] + params4[i] + params5[i])/5\n",
    "print(params_mean)\n",
    "print(RME(data, target, params_mean))"
   ]
  },
  {
   "cell_type": "markdown",
   "metadata": {
    "id": "F-pUCmQrbAlB"
   },
   "source": [
    "#PART B:\n",
    "Perform feature engineering. Come up with more interesting feature mappings or basis functions\n",
    "for the linear least-squares data fitting or the linear least-squares classifier. For example, try out\n",
    "a stratified model (Chapter 13.3.2) using the results of the k-means clustering you did earlier.\n",
    "Choose the best model using cross-validation and report the RMS error. Make sure to save the\n",
    "model parameters for each fold of the cross-validation. If you are doing classification, report the\n",
    "confusion matrix for the best model you found."
   ]
  },
  {
   "cell_type": "markdown",
   "metadata": {
    "id": "r8w0loMMdZiE"
   },
   "source": [
    "##Product Interactions"
   ]
  },
  {
   "cell_type": "markdown",
   "metadata": {
    "id": "yp6KylFPf37u"
   },
   "source": [
    "###Determining 5 least significant factors"
   ]
  },
  {
   "cell_type": "code",
   "execution_count": 35,
   "metadata": {
    "colab": {
     "base_uri": "https://localhost:8080/"
    },
    "id": "Z7uG6jIxbJHt",
    "outputId": "018b8842-ad2f-4909-fdb0-298054181525"
   },
   "outputs": [
    {
     "name": "stdout",
     "output_type": "stream",
     "text": [
      "[[31.          0.435544  ]\n",
      " [35.         10.36733501]\n",
      " [53.         17.43081268]\n",
      " [45.         22.70689072]\n",
      " [ 8.         23.18702348]]\n"
     ]
    }
   ],
   "source": [
    "params_abs = abs(np.array(params[:58]))\n",
    "indexes = list(range(0,58))\n",
    "stack = np.vstack((indexes, params_abs))\n",
    "stack = stack.T\n",
    "sorted = stack[stack[:,1].argsort()]\n",
    "print(sorted[:5])\n",
    "worst_indexes = [31, 35, 53, 45, 8]\n"
   ]
  },
  {
   "cell_type": "markdown",
   "metadata": {
    "id": "oWf9_XKQmW8U"
   },
   "source": [
    "#Performing Feature Engineering"
   ]
  },
  {
   "cell_type": "code",
   "execution_count": 36,
   "metadata": {
    "colab": {
     "base_uri": "https://localhost:8080/"
    },
    "id": "6NQu9aRcmkTW",
    "outputId": "8c4114ef-60bf-40cb-e383-e911795aaa57"
   },
   "outputs": [
    {
     "name": "stdout",
     "output_type": "stream",
     "text": [
      "(58, 39644)\n",
      "(39644, 343)\n",
      "(39644, 344)\n",
      "done\n"
     ]
    }
   ],
   "source": [
    "B=data.T\n",
    "print(np.shape(B))\n",
    "i = 0 #\n",
    "j = 0\n",
    "for i in range(5):\n",
    "  bad_index = worst_indexes[i]\n",
    "  for j in range(58):\n",
    "    feature_added = []\n",
    "    if i==j:\n",
    "      continue\n",
    "    else:\n",
    "      for k in range(39644):\n",
    "        feature_added.append(B[bad_index,k]*B[j,k])\n",
    "      B = np.vstack((B,feature_added))\n",
    "newdata = B.T\n",
    "B = np.vstack((B,np.ones(39644)))\n",
    "B = B.T\n",
    "print(np.shape(newdata))\n",
    "print(np.shape(B))\n",
    "print(\"done\")"
   ]
  },
  {
   "cell_type": "code",
   "execution_count": 37,
   "metadata": {
    "id": "URD4JFZRt82H"
   },
   "outputs": [],
   "source": [
    "def newRME(x_test, y_test, params):\n",
    "  preds = []\n",
    "  data_size = x_test.shape[0]\n",
    "  for i in range(data_size):\n",
    "    pred = np.dot(x_test[i], params[:343]) + params[343]\n",
    "    preds.append(pred)\n",
    "  return math.sqrt((np.sum(np.square(np.subtract(y_test, preds))))/data_size)"
   ]
  },
  {
   "cell_type": "code",
   "execution_count": 38,
   "metadata": {
    "colab": {
     "base_uri": "https://localhost:8080/"
    },
    "id": "U7EixNX5qy7J",
    "outputId": "3eed54bd-f3e0-48f1-fedc-a68ae7ac40b2"
   },
   "outputs": [
    {
     "name": "stdout",
     "output_type": "stream",
     "text": [
      "11428.975821063592\n",
      "15793.41339679203\n",
      "12375.805800802822\n",
      "15960.51636812314\n",
      "108183.84277710892\n",
      "8171.10214671604\n",
      "[ 1.95258919e+02  9.33575939e+01  2.92549892e+03 -2.61191776e+11\n",
      " -1.30584334e+03  3.17093135e+02 -2.16700280e+02  1.43966068e+02\n",
      "  8.15521482e+02 -2.07730545e+02  6.67422164e+01 -2.08774264e+02\n",
      " -4.63958289e+02 -2.31174672e+02 -1.82990823e+02 -2.34236361e+02\n",
      " -2.29608217e+02  5.36653855e+02  2.82626163e+02 -1.62371757e+02\n",
      " -1.20223987e+02  2.40165954e+01 -1.46354399e+02 -3.92366686e+02\n",
      " -1.14247042e+03  2.07478506e+03  5.53039468e+02  1.52651052e+02\n",
      " -5.50406807e+01  1.43496747e+08  1.50794632e+08 -5.58749238e+08\n",
      "  1.49580400e+08  1.33207316e+08  1.24378808e+08 -1.13726259e+08\n",
      "  3.36271461e+06  9.88050001e+05  8.25290329e+05  1.05969214e+06\n",
      "  1.10893798e+06  1.08644371e+06  1.88532864e+02  7.28684967e+01\n",
      " -4.15269039e+02  3.03490374e+08  1.31805422e+09  1.08209789e+09\n",
      " -1.53947538e+02 -1.44153398e+02  9.51504960e+01 -9.13939083e+01\n",
      " -9.60573555e+01 -2.81702082e+08 -2.98531700e+01  6.07528918e+01\n",
      "  1.31003785e+02  1.45403119e+02  5.62165420e+02 -6.85827594e+03\n",
      " -3.33732375e+11  3.55239736e+03  2.02966567e+02 -2.24762351e+02\n",
      " -8.46720567e+01  9.38842141e+03  9.12401265e+01  9.80978840e+01\n",
      " -1.45397401e+02 -8.08669005e+01 -2.79974996e+02 -8.98459550e+01\n",
      " -3.47254187e+01 -2.55465161e+02 -6.03017417e+02  3.38849211e+02\n",
      " -4.05603877e+02 -5.02891823e+01 -3.34964588e+02  1.90934120e+02\n",
      "  1.88846070e+02  1.86904918e+02 -2.98016786e+02 -4.89850836e+02\n",
      " -2.95425142e+02  5.47422065e+02  8.48236203e+07  9.13942516e+07\n",
      " -4.43776884e+08  9.02550512e+07  7.62648793e+07  2.80958580e+07\n",
      "  1.47866734e+08  1.31216840e+08 -6.91538873e+05 -5.77878823e+05\n",
      " -7.42050937e+05 -7.76304201e+05 -7.60605957e+05 -1.31901448e+02\n",
      "  4.89651910e+02 -7.44259095e+01  2.51227341e+04  1.21344306e+10\n",
      "  9.96214415e+09 -3.62660634e+02  3.25100952e+01 -8.14082189e+00\n",
      " -6.11300787e+02  6.30180738e+02 -3.01346745e+04  2.68619205e+01\n",
      " -4.35653856e+01 -1.84312008e+01  7.39247096e+01  2.59729000e+01\n",
      " -1.63967948e+03 -3.93241595e+09  1.77558281e+03  6.52087664e+01\n",
      " -3.13689601e+01 -7.56965351e-01 -1.19367949e+04  4.61732965e+01\n",
      "  4.56216337e+01  2.99367266e+01  1.53298269e+02  8.76039447e+01\n",
      "  1.30584492e+02  2.00795529e+02  1.87013269e+02 -1.32291662e+02\n",
      " -1.07411774e+02  2.02018220e+02 -5.59128842e+00  6.36209035e+00\n",
      "  9.41855639e+01 -3.79659061e+01  3.13921075e+01 -5.72889423e+01\n",
      " -2.44592741e+02 -2.03795100e+02  2.22182613e+02 -4.30829823e+07\n",
      " -4.53614489e+07  1.47868372e+08 -4.49783945e+07 -3.99151391e+07\n",
      " -3.61381075e+07  6.40315160e+07  2.22364135e+07  2.12726463e+04\n",
      "  1.77968129e+04  2.27082770e+04  2.38605588e+04  2.33783060e+04\n",
      " -7.35495708e+01  1.97983681e+02 -6.49956443e+01  9.99197858e+03\n",
      "  1.42981642e+08  1.17385366e+08  1.56517249e+01  8.51710939e-01\n",
      " -4.55972311e+01 -7.02435491e+01  5.18351296e+01  2.53472696e+04\n",
      "  9.46339519e+01 -2.82664471e+01  2.74785071e+01 -3.82672288e+01\n",
      " -1.11861987e+02  4.95450250e+02  8.85206146e+10 -3.25549992e+03\n",
      "  1.12291047e+02 -1.03005589e+02 -1.96365534e+02  9.05248640e+03\n",
      "  1.35734989e+02 -2.63726410e+01  1.41108629e+01  4.65113182e+01\n",
      " -3.29611816e+00  9.16188558e+00  1.37626028e+02 -7.30414498e+01\n",
      " -4.57175771e+02 -7.43218834e+02  5.30214046e+02  8.44830891e+01\n",
      " -8.74326197e+01 -2.34124598e+02  1.12819435e+02  8.00388875e+01\n",
      "  1.76216803e+01  1.14601239e+02  5.68487889e+02 -6.43755473e+02\n",
      "  8.48077644e+02  1.02921468e+03  3.13812799e+04  9.01068527e+02\n",
      "  9.44772422e+02  4.23022966e+03 -2.07942272e+04 -5.15418133e+03\n",
      "  2.52603906e+06  2.11044475e+06  2.71029804e+06  2.83555695e+06\n",
      "  2.77785687e+06 -2.32776199e+01  4.80227777e+01  4.47812737e+01\n",
      "  1.99128637e+04  1.41108985e+09  1.15847890e+09  1.02370629e+02\n",
      " -6.23010788e+00 -5.93334593e+01 -2.50611749e+02  7.16487658e+02\n",
      " -9.65149017e+01  4.73222100e+01 -5.94958644e+01 -4.95860712e+01\n",
      "  1.06320413e+01 -5.76780981e+01 -6.56051090e+01  6.90969235e+03\n",
      " -3.46929701e+03  6.37888287e+01 -2.46262546e+00  2.91904467e+01\n",
      " -3.23745080e+03 -9.22712648e+01  8.28135238e+01  1.18140320e+02\n",
      "  1.26728620e+02  3.39403655e+02  9.43488294e+01  3.21679276e+02\n",
      "  1.29326755e+02  3.04740358e+01  1.70117866e+02 -3.36945143e+02\n",
      "  3.12661043e+01 -6.15470446e+01 -1.97685567e+02 -1.37898437e+02\n",
      " -3.96545716e+02  6.00365672e+02 -3.89163960e+02 -8.58139909e+02\n",
      "  1.14477774e+03  1.19762218e+04  1.25076065e+04 -1.24181824e+04\n",
      "  1.23846763e+04  1.12254448e+04  1.46098854e+04  5.32874871e+03\n",
      " -9.62071810e+03  2.66838830e+06  2.22928084e+06  2.86287055e+06\n",
      "  2.99512144e+06  2.93412884e+06 -1.42593972e+02 -9.32421045e+00\n",
      " -2.51618677e+02  2.27760452e+01 -1.92955410e+09 -1.58412858e+09\n",
      " -6.50535791e+01  2.60321875e+00  8.59371891e+01 -2.69126196e+02\n",
      " -5.90701508e+01 -1.95835456e+04  3.41470963e+01  2.71224699e+01\n",
      " -1.98307868e+02 -4.48865299e+00  8.32480860e+01  8.31147636e+01\n",
      " -1.90005802e+02 -1.64448953e+04 -1.08940621e+02  6.02460056e+01\n",
      " -1.88949766e+02 -5.78443989e+01  8.41958588e+02 -3.12958481e+01\n",
      "  2.95450590e+02 -4.81041814e+01  4.31932753e+02  9.81033499e+00\n",
      "  1.33868732e+02  1.33436817e+02  2.75127939e+02 -1.03449425e+03\n",
      "  1.22121566e+03 -2.34393842e+01  2.03496695e+02  4.27287741e+01\n",
      "  1.43566865e+02  1.09396095e+02 -3.24704182e+02  4.95100823e+02\n",
      "  1.08389768e+02 -1.07091437e+02  9.86180772e+03  1.01355663e+04\n",
      "  7.06140137e+02  1.00889135e+04  9.17708967e+03 -2.48979734e+03\n",
      "  9.34703744e+03  1.22393849e+04  5.31871138e+05  4.44437267e+05\n",
      "  5.70550382e+05  5.97172285e+05  5.85273780e+05 -6.57768231e+01\n",
      "  2.37253077e+02  1.97192831e+01  3.30899090e+03 -2.99983760e+02\n",
      " -4.05638149e+01  2.40491830e+01 -7.84117677e+01  3.49887047e+01\n",
      " -1.29222366e+01  1.76709361e+01 -9.19947215e+03 -6.49004807e+01\n",
      "  3.90634366e+01  2.17209056e+02 -1.55029140e+01  4.50712388e+08]\n",
      "14987.738100057584\n"
     ]
    }
   ],
   "source": [
    "newparams = np.linalg.lstsq(B, target, rcond=None)[0]\n",
    "print(newRME(newdata,target,newparams))\n",
    "\n",
    "#5 folds, indexes: [0-7928, 7929-15857, 15858-23786, 23787-31715, 31716-39643]\n",
    "#fold 1\n",
    "newx_train1 = B[7929:,:]\n",
    "newx_test1 = newdata[:7979,:]\n",
    "newy_train1 = target[7929:]\n",
    "newy_test1 = target[:7979]\n",
    "newparams1 = np.linalg.lstsq(newx_train1, newy_train1, rcond=None)[0]\n",
    "print(newRME(newx_test1, newy_test1, newparams1))\n",
    "\n",
    "\n",
    "#fold 2\n",
    "newx_train2 = np.vstack((B[:7929,:], B[15858:,:]))\n",
    "newx_test2 = newdata[7929:15858,:]\n",
    "newy_train2 = np.concatenate((target[:7929], target[15858:]))\n",
    "newy_test2 = target[7929:15858]\n",
    "newparams2 = np.linalg.lstsq(newx_train2, newy_train2, rcond=None)[0]\n",
    "print(newRME(newx_test2, newy_test2, newparams2))\n",
    "\n",
    "\n",
    "#fold 3\n",
    "newx_train3 = np.vstack((B[:15858,:], B[23787:,:]))\n",
    "newx_test3 = newdata[15858:23787,:]\n",
    "newy_train3 = np.concatenate((target[:15858], target[23787:]))\n",
    "newy_test3 = target[15858:23787]\n",
    "newparams3 = np.linalg.lstsq(newx_train3, newy_train3, rcond=None)[0]\n",
    "print(newRME(newx_test3, newy_test3, newparams3))\n",
    "\n",
    "\n",
    "#fold 4\n",
    "newx_train4 = np.vstack((B[:23787,:], B[31716:,:]))\n",
    "newx_test4 = newdata[23787:31716,:]\n",
    "newy_train4 = np.concatenate((target[:23787], target[31716:]))\n",
    "newy_test4 = target[23787:31716]\n",
    "newparams4 = np.linalg.lstsq(newx_train4, newy_train4, rcond=None)[0]\n",
    "print(newRME(newx_test4, newy_test4, newparams4))\n",
    "\n",
    "\n",
    "#fold 5\n",
    "newx_train5 = B[:31716,:]\n",
    "newx_test5 = newdata[31716:,:]\n",
    "newy_train5 = target[:31716]\n",
    "newy_test5 = target[31716:]\n",
    "newparams5 = np.linalg.lstsq(newx_train5, newy_train5, rcond=None)[0]\n",
    "print(newRME(newx_test5, newy_test5, newparams5))\n",
    "\n",
    "\n",
    "newparams_mean = np.zeros(344)\n",
    "for i in range(344):\n",
    " newparams_mean[i] = (newparams1[i] + newparams2[i] + newparams3[i] + newparams4[i] + newparams5[i])/5\n",
    "print(newparams_mean)\n",
    "print(newRME(newdata, target, newparams_mean))"
   ]
  },
  {
   "cell_type": "code",
   "execution_count": 41,
   "metadata": {},
   "outputs": [
    {
     "name": "stdout",
     "output_type": "stream",
     "text": [
      "20\n",
      "13821.7649707273\n",
      "2386.922700781445\n",
      "-626.5310495963595\n"
     ]
    }
   ],
   "source": [
    "#regularizing linear model\n",
    "test_set = A[:19822]\n",
    "training_set = A[19822:]\n",
    "\n",
    "test_outcome = target[:19822]\n",
    "training_outcome = target[19822:]\n",
    "\n",
    "\n",
    "reg_param_values = [.001,1,10,20,100,200,300,400,600,1000,1200,1300,1500,1800,2000,2300,2600,3000,4000,5000,6000,7000,8000,9000,10000]\n",
    "param_values_list = np.array([])\n",
    "fit_RMS = []\n",
    "param_norms = []\n",
    "\n",
    "\n",
    "\n",
    "for reg_param in reg_param_values:\n",
    "    dim = A.shape[1]\n",
    "    ident = np.identity(dim)\n",
    "    ident *= reg_param\n",
    "    ident[dim-1][dim-1] = 0\n",
    "    mat = np.vstack((training_set, ident))\n",
    "\n",
    "    \n",
    "\n",
    "    outcome = np.concatenate((training_outcome, np.zeros(dim)))\n",
    "    params = np.linalg.lstsq(mat, outcome, rcond=None)[0]\n",
    "    param_values_list = np.append(param_values_list, params)\n",
    "    param_norm = np.linalg.norm(np.delete(params,dim-1)) \n",
    "    param_norms = np.append(param_norms, param_norm)\n",
    "\n",
    "\n",
    "    preds = []\n",
    "    for i in range(test_set.shape[0]):\n",
    "        pred = np.dot(test_set[i],params) \n",
    "        preds.append(pred)\n",
    "\n",
    "    dif = preds - test_outcome\n",
    "    norm_ = np.linalg.norm(dif)\n",
    "    fit_RMS.append(norm_/np.sqrt(dif.shape[0]))\n",
    "    \n",
    "lowest_RMS = np.argmin(fit_RMS)\n",
    "\n",
    "print(reg_param_values[lowest_RMS])\n",
    "print(fit_RMS[lowest_RMS])\n",
    "print(param_norms[lowest_RMS])\n",
    "print(param_values_list[lowest_RMS])\n",
    "\n",
    "\n"
   ]
  },
  {
   "cell_type": "code",
   "execution_count": 42,
   "metadata": {},
   "outputs": [
    {
     "name": "stdout",
     "output_type": "stream",
     "text": [
      "100\n",
      "13834.784062169654\n",
      "847.583449965849\n",
      "-19853.203659197385\n"
     ]
    }
   ],
   "source": [
    "#regularizing linear model\n",
    "test_set = B[:19822]\n",
    "training_set = B[19822:]\n",
    "\n",
    "test_outcome = target[:19822]\n",
    "training_outcome = target[19822:]\n",
    "\n",
    "\n",
    "reg_param_values = [.001,1,10,20,100,200,300,400,600,1000,1200,1300,1500,1800,2000,2300,2600,3000,4000,5000,6000,7000,8000,9000,10000]\n",
    "param_values_list = np.array([])\n",
    "fit_RMS = []\n",
    "param_norm = []\n",
    "\n",
    "\n",
    "\n",
    "for reg_param in reg_param_values:\n",
    "    dim = B.shape[1]\n",
    "    ident = np.identity(dim)\n",
    "    ident *= reg_param\n",
    "    ident[dim-1][dim-1] = 0\n",
    "    mat = np.vstack((training_set, ident))\n",
    "\n",
    "    \n",
    "\n",
    "    outcome = np.concatenate((training_outcome, np.zeros(dim)))\n",
    "    params = np.linalg.lstsq(mat, outcome, rcond=None)[0]\n",
    "    param_values_list = np.concatenate((param_values_list, params))\n",
    "    param_norm = np.linalg.norm(np.delete(params,dim-1)) \n",
    "    param_norms = np.append(param_norms, param_norm)\n",
    "\n",
    "\n",
    "    preds = []\n",
    "    for i in range(test_set.shape[0]):\n",
    "        pred = np.dot(test_set[i],params) \n",
    "        preds.append(pred)\n",
    "\n",
    "    dif = preds - test_outcome\n",
    "    norm_ = np.linalg.norm(dif)\n",
    "    fit_RMS.append(norm_/np.sqrt(dif.shape[0]))\n",
    "    \n",
    "lowest_RMS = np.argmin(fit_RMS)\n",
    "\n",
    "print(reg_param_values[lowest_RMS])\n",
    "print(fit_RMS[lowest_RMS])\n",
    "print(param_norms[lowest_RMS])\n",
    "print(param_values_list[lowest_RMS])\n",
    "\n"
   ]
  }
 ],
 "metadata": {
  "colab": {
   "provenance": []
  },
  "kernelspec": {
   "display_name": "Python 3 (ipykernel)",
   "language": "python",
   "name": "python3"
  },
  "language_info": {
   "codemirror_mode": {
    "name": "ipython",
    "version": 3
   },
   "file_extension": ".py",
   "mimetype": "text/x-python",
   "name": "python",
   "nbconvert_exporter": "python",
   "pygments_lexer": "ipython3",
   "version": "3.10.12"
  }
 },
 "nbformat": 4,
 "nbformat_minor": 4
}
