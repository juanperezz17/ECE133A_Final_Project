{
 "cells": [
  {
   "cell_type": "code",
   "execution_count": 3,
   "id": "e0bc6bde-78d3-46b1-8c1d-547003d4d867",
   "metadata": {},
   "outputs": [
    {
     "name": "stdout",
     "output_type": "stream",
     "text": [
      "saved\n"
     ]
    }
   ],
   "source": [
    "import numpy as np\n",
    "import matplotlib.pyplot as plt\n",
    "\n",
    "#The file 'OnlineNewsPopularity.csv' from https://archive.ics.uci.edu/dataset/332/online+news+popularity is required\n",
    "file_dir = 'OnlineNewsPopularity.csv'\n",
    "        \n",
    "data = np.loadtxt(file_dir, delimiter = ',', skiprows=1, usecols = 60)\n",
    "\n",
    "np.savetxt('popularity.csv', data, delimiter=',')\n",
    "print(\"saved\")\n",
    "#Cleaned data is saved to csv file 'Cleaned_Data.csv'"
   ]
  }
 ],
 "metadata": {
  "kernelspec": {
   "display_name": "Python 3 (ipykernel)",
   "language": "python",
   "name": "python3"
  },
  "language_info": {
   "codemirror_mode": {
    "name": "ipython",
    "version": 3
   },
   "file_extension": ".py",
   "mimetype": "text/x-python",
   "name": "python",
   "nbconvert_exporter": "python",
   "pygments_lexer": "ipython3",
   "version": "3.10.12"
  }
 },
 "nbformat": 4,
 "nbformat_minor": 5
}
