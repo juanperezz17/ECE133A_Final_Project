{
 "cells": [
  {
   "cell_type": "code",
   "execution_count": 7,
   "id": "d805669f-e1d4-4856-b74e-06d72a93e9d4",
   "metadata": {},
   "outputs": [],
   "source": [
    "import numpy as np\n",
    "\n",
    "#The file \"popularity.csv\" generated from \"Extract Popularity Column.ipynb\" is required\n",
    "#The file \"Stand_Data.csv\" generated from \"Standardization.ipynb\" is required\n",
    "\n",
    "popularity = np.loadtxt(\"popularity.csv\", delimiter = ',')\n",
    "features = np.loadtxt(\"Stand_Data.csv\", delimiter=',')\n",
    "\n",
    "#adding column of 1s\n",
    "ones = np.ones(features.shape[0])\n",
    "features = np.insert(features, 0, ones, axis=1)\n",
    "\n",
    "pseudo = np.linalg.pinv(features)\n",
    "coefficients = np.matmul(pseudo, popularity)\n",
    "\n",
    "def model(feature_vector, parameters):\n",
    "    i = 0\n",
    "    accum = 0\n",
    "    while i < feature_vector.shape[0]:\n",
    "        accum = feature_vector[i] * parameters[i]\n",
    "        i += 1;\n",
    "    return accum\n",
    "\n",
    "\n",
    "\n",
    "\n",
    "\n"
   ]
  },
  {
   "cell_type": "code",
   "execution_count": 21,
   "id": "4d778cef-143a-4435-bb5d-79c56b49a361",
   "metadata": {},
   "outputs": [
    {
     "name": "stdout",
     "output_type": "stream",
     "text": [
      "[7 9 2 ... 0 7 7]\n"
     ]
    }
   ],
   "source": [
    "#Folding\n",
    "rng = np.random.default_rng(10)\n",
    "div = rng.integers(10, size = features.shape[0])\n",
    "\n",
    "\n"
   ]
  }
 ],
 "metadata": {
  "kernelspec": {
   "display_name": "Python 3 (ipykernel)",
   "language": "python",
   "name": "python3"
  },
  "language_info": {
   "codemirror_mode": {
    "name": "ipython",
    "version": 3
   },
   "file_extension": ".py",
   "mimetype": "text/x-python",
   "name": "python",
   "nbconvert_exporter": "python",
   "pygments_lexer": "ipython3",
   "version": "3.10.12"
  }
 },
 "nbformat": 4,
 "nbformat_minor": 5
}
