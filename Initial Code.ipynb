{
 "cells": [
  {
   "cell_type": "code",
   "execution_count": 21,
   "id": "da90e574-16d0-429b-ab97-62b231105145",
   "metadata": {},
   "outputs": [],
   "source": [
    "import numpy as np\n",
    "import matplotlib.pyplot as plt\n",
    "\n",
    "#The file 'OnlineNewsPopularity.csv' from https://archive.ics.uci.edu/dataset/332/online+news+popularity is required\n",
    "file_dir = 'OnlineNewsPopularity.csv'\n",
    "columns = []\n",
    "for x in range(61):\n",
    "    if x == 0 or x == 1 or x == 60:\n",
    "        continue\n",
    "    else:\n",
    "        columns = columns + [x]\n",
    "        \n",
    "data = np.loadtxt(file_dir, delimiter = ',', skiprows=1, usecols = columns)\n",
    "\n",
    "np.savetxt('Cleaned_Data.csv', data, delimiter=',')\n",
    "#Cleaned data is saved to csv file 'Cleaned_Data.csv'"
   ]
  }
 ],
 "metadata": {
  "kernelspec": {
   "display_name": "Python 3 (ipykernel)",
   "language": "python",
   "name": "python3"
  },
  "language_info": {
   "codemirror_mode": {
    "name": "ipython",
    "version": 3
   },
   "file_extension": ".py",
   "mimetype": "text/x-python",
   "name": "python",
   "nbconvert_exporter": "python",
   "pygments_lexer": "ipython3",
   "version": "3.10.12"
  }
 },
 "nbformat": 4,
 "nbformat_minor": 5
}
