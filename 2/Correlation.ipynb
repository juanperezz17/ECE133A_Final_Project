{
 "cells": [
  {
   "cell_type": "code",
   "execution_count": 5,
   "id": "302a5ed8-0738-4a9d-9436-a5f1dd8a59a9",
   "metadata": {},
   "outputs": [
    {
     "name": "stdout",
     "output_type": "stream",
     "text": [
      "Generated\n",
      "(58, 58)\n",
      "High correlation found between (3,4)\n",
      "High correlation found between (3,5)\n",
      "High correlation found between (4,3)\n",
      "High correlation found between (4,5)\n",
      "High correlation found between (5,3)\n",
      "High correlation found between (5,4)\n",
      "High correlation found between (17,40)\n",
      "High correlation found between (19,20)\n",
      "High correlation found between (20,19)\n",
      "High correlation found between (25,26)\n",
      "High correlation found between (26,25)\n",
      "High correlation found between (27,29)\n",
      "High correlation found between (28,29)\n",
      "High correlation found between (29,27)\n",
      "High correlation found between (29,28)\n",
      "High correlation found between (40,17)\n",
      "Generated Second Part\n"
     ]
    }
   ],
   "source": [
    "import numpy as np\n",
    "\n",
    "#The file 'Stand_Data.csv' generated from 'Standardization.ipynb' is required\n",
    "file_dir = 'Stand_Data.csv'\n",
    "\n",
    "data = np.loadtxt(file_dir, delimiter=',')\n",
    "correlation_matrix = np.empty((58,58), dtype = float)\n",
    "\n",
    "def dot(v,w):\n",
    "    ac = 0\n",
    "    for i in range(39644):\n",
    "        ac += v[i] * w[i]\n",
    "    return ac\n",
    "\n",
    "for i in range(58):\n",
    "    ith_column = data[0:39644,i]\n",
    "    for j in range(58):\n",
    "        jth_column = data[0:39644,j]\n",
    "        inner_product = np.dot(ith_column,jth_column)\n",
    "        correlation_matrix[i,j] = inner_product / 39644\n",
    "\n",
    "np.savetxt('Correlation_Matrix.csv', correlation_matrix, delimiter=',')\n",
    "print(\"Generated\")\n",
    "print(correlation_matrix.shape)\n",
    "\n",
    "\n",
    "large_correlation_coefficients = np.zeros((58,5))\n",
    "corresponding_vector_number = np.empty((58,5))\n",
    "\n",
    "for i in range(58):\n",
    "    correlation_matrix[i,i] = 0;\n",
    "\n",
    "for i in range(58):\n",
    "    ith_row = correlation_matrix[i,:]\n",
    "    for j in range(58):\n",
    "        if np.min(large_correlation_coefficients[i]) < ith_row[j]:\n",
    "            index = np.argmin(large_correlation_coefficients[i])\n",
    "            large_correlation_coefficients[i][index] = ith_row[j]\n",
    "            corresponding_vector_number[i][index] = j + 1\n",
    "            if ith_row[j] > .80:\n",
    "                print(f\"High correlation found between ({i+1},{j+1})\")\n",
    "\n",
    "\n",
    "\n",
    "\n",
    "np.savetxt('Large_corr_values.csv', large_correlation_coefficients, delimiter=',')\n",
    "np.savetxt('Large_corr_vector_numbers.csv', corresponding_vector_number, delimiter=',')\n",
    "\n",
    "print(\"Generated Second Part\")"
   ]
  }
 ],
 "metadata": {
  "kernelspec": {
   "display_name": "Python 3 (ipykernel)",
   "language": "python",
   "name": "python3"
  },
  "language_info": {
   "codemirror_mode": {
    "name": "ipython",
    "version": 3
   },
   "file_extension": ".py",
   "mimetype": "text/x-python",
   "name": "python",
   "nbconvert_exporter": "python",
   "pygments_lexer": "ipython3",
   "version": "3.10.12"
  }
 },
 "nbformat": 4,
 "nbformat_minor": 5
}
