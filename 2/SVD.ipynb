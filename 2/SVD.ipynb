{
  "nbformat": 4,
  "nbformat_minor": 0,
  "metadata": {
    "colab": {
      "provenance": []
    },
    "kernelspec": {
      "name": "python3",
      "display_name": "Python 3"
    },
    "language_info": {
      "name": "python"
    }
  },
  "cells": [
    {
      "cell_type": "code",
      "execution_count": null,
      "metadata": {
        "id": "JH13GmOefER_"
      },
      "outputs": [],
      "source": [
        "import numpy as np\n",
        "import matplotlib.pyplot as plt\n",
        "\n",
        "#The file 'Stand_Data.csv' generated from 'Standardization.ipynb' is required\n",
        "file_dir = 'Stand_Data.csv'\n",
        "\n",
        "data = np.loadtxt(file_dir, delimiter = ',')\n",
        "s = np.linalg.svd(data, compute_uv= False)\n",
        "np.savetxt('SVD_Singular.csv', s, delimiter=',')"
      ]
    }
  ]
}
