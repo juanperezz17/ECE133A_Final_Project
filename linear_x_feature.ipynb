{
  "nbformat": 4,
  "nbformat_minor": 0,
  "metadata": {
    "colab": {
      "provenance": []
    },
    "kernelspec": {
      "name": "python3",
      "display_name": "Python 3"
    },
    "language_info": {
      "name": "python"
    }
  },
  "cells": [
    {
      "cell_type": "code",
      "execution_count": 1,
      "metadata": {
        "id": "wWW6pnedjPlv"
      },
      "outputs": [],
      "source": [
        "#import stuff here\n",
        "import math\n",
        "import numpy as np\n",
        "import matplotlib.pyplot as plt"
      ]
    },
    {
      "cell_type": "code",
      "source": [
        "#The file \"Stand_Data.csv\" generated from \"Standardization.ipynb\" is required\n",
        "file_dir = \"Stand_Data.csv\"\n",
        "data = np.loadtxt(file_dir, delimiter=\",\")\n",
        "print(np.shape(data))"
      ],
      "metadata": {
        "colab": {
          "base_uri": "https://localhost:8080/"
        },
        "id": "the_Cj9wTUtU",
        "outputId": "f9dfd8fe-fb47-4f95-aeaf-d4742082ab77"
      },
      "execution_count": 3,
      "outputs": [
        {
          "output_type": "stream",
          "name": "stdout",
          "text": [
            "(39644, 58)\n"
          ]
        }
      ]
    },
    {
      "cell_type": "markdown",
      "source": [
        "# PART A:\n",
        "Start with a basic linear model (the features are only standardized and are used as they are\n",
        "without any transformations) regardless if you are doing the least-squares data fitting (Chapter\n",
        "13) or the least-squares classification (Chapter 14) task. Evaluate the initial model using cross-\n",
        "validation and report the RMS error. Make sure to save the model parameters for each fold of\n",
        "the cross-validation."
      ],
      "metadata": {
        "id": "-AqvdzahS1eW"
      }
    },
    {
      "cell_type": "code",
      "source": [
        "#The file 'OnlineNewsPopularity.csv' from https://archive.ics.uci.edu/dataset/332/online+news+popularity is required\n",
        "file_dir2 = 'OnlineNewsPopularity.csv'\n",
        "columns = [60]\n",
        "target = np.loadtxt(file_dir2, delimiter = ',', skiprows=1, usecols = columns)\n",
        "print(np.shape(target))"
      ],
      "metadata": {
        "colab": {
          "base_uri": "https://localhost:8080/"
        },
        "id": "VcoKBL-hTxCL",
        "outputId": "df4b35ec-325a-4fbf-bbab-13e792e023a2"
      },
      "execution_count": 4,
      "outputs": [
        {
          "output_type": "stream",
          "name": "stdout",
          "text": [
            "(39644,)\n"
          ]
        }
      ]
    },
    {
      "cell_type": "markdown",
      "source": [
        "##Linear Model"
      ],
      "metadata": {
        "id": "5cBlwwJv_Vhd"
      }
    },
    {
      "cell_type": "code",
      "source": [
        "#Add a column of 1's to the right side of A\n",
        "A = data\n",
        "A = np.vstack((A.T, np.ones(39644))).T\n",
        "print(np.shape(A))\n",
        "\n",
        "#solve least squares problem\n",
        "params = np.linalg.lstsq(A, target, rcond=None)[0]"
      ],
      "metadata": {
        "colab": {
          "base_uri": "https://localhost:8080/"
        },
        "id": "A9JLnDzF8j5O",
        "outputId": "bae004bd-b93b-400a-d5f2-13bb5b4c7dfa"
      },
      "execution_count": 7,
      "outputs": [
        {
          "output_type": "stream",
          "name": "stdout",
          "text": [
            "(39644, 59)\n"
          ]
        }
      ]
    },
    {
      "cell_type": "markdown",
      "source": [
        "##Cross Validation"
      ],
      "metadata": {
        "id": "ntQ3k7Z2_pae"
      }
    },
    {
      "cell_type": "markdown",
      "source": [
        "###Calculate RMS"
      ],
      "metadata": {
        "id": "6wL905kuIaf5"
      }
    },
    {
      "cell_type": "code",
      "source": [
        "def RME(x_test, y_test, params):\n",
        "  preds = []\n",
        "  data_size = x_test.shape[0]\n",
        "  for i in range(data_size):\n",
        "    pred = np.dot(x_test[i], params[:58]) + params[58]\n",
        "    preds.append(pred)\n",
        "  return math.sqrt((np.sum(np.square(np.subtract(y_test, preds))))/data_size)\n",
        "\n",
        "#print(RME(data,target,params))"
      ],
      "metadata": {
        "id": "IF8h1hmPIYUV"
      },
      "execution_count": 13,
      "outputs": []
    },
    {
      "cell_type": "markdown",
      "source": [
        "###Cross Validation Folds"
      ],
      "metadata": {
        "id": "4aXFuELsajmx"
      }
    },
    {
      "cell_type": "code",
      "source": [
        "#Train on 5 folds, indexes: [0-7928, 7929-15857, 15858-23786, 23787-31715, 31716-39643]\n",
        "#fold 1\n",
        "x_train1 = A[7929:,:]\n",
        "x_test1 = data[:7979,:]\n",
        "y_train1 = target[7929:]\n",
        "y_test1 = target[:7979]\n",
        "params1 = np.linalg.lstsq(x_train1, y_train1, rcond=None)[0]\n",
        "print(f\"Fold 1 RMS Error: {RME(x_test1, y_test1, params1)}\")\n",
        "\n",
        "#fold 2\n",
        "x_train2 = np.vstack((A[:7929,:], A[15858:,:]))\n",
        "x_test2 = data[7929:15858,:]\n",
        "y_train2 = np.concatenate((target[:7929], target[15858:]))\n",
        "y_test2 = target[7929:15858]\n",
        "params2 = np.linalg.lstsq(x_train2, y_train2, rcond=None)[0]\n",
        "print(f\"Fold 2 RMS Error: {RME(x_test2, y_test2, params2)}\")\n",
        "\n",
        "#fold 3\n",
        "x_train3 = np.vstack((A[:15858,:], A[23787:,:]))\n",
        "x_test3 = data[15858:23787,:]\n",
        "y_train3 = np.concatenate((target[:15858], target[23787:]))\n",
        "y_test3 = target[15858:23787]\n",
        "params3 = np.linalg.lstsq(x_train3, y_train3, rcond=None)[0]\n",
        "print(f\"Fold 3 RMS Error: {RME(x_test3, y_test3, params3)}\")\n",
        "\n",
        "#fold 4\n",
        "x_train4 = np.vstack((A[:23787,:], A[31716:,:]))\n",
        "x_test4 = data[23787:31716,:]\n",
        "y_train4 = np.concatenate((target[:23787], target[31716:]))\n",
        "y_test4 = target[23787:31716]\n",
        "params4 = np.linalg.lstsq(x_train4, y_train4, rcond=None)[0]\n",
        "print(f\"Fold 4 RMS Error: {RME(x_test4, y_test4, params4)}\")\n",
        "\n",
        "#fold 5\n",
        "x_train5 = A[:31716,:]\n",
        "x_test5 = data[31716:,:]\n",
        "y_train5 = target[:31716]\n",
        "y_test5 = target[31716:]\n",
        "params5 = np.linalg.lstsq(x_train5, y_train5, rcond=None)[0]\n",
        "print(f\"Fold 5 RMS Error: {RME(x_test5, y_test5, params5)}\")\n",
        "\n",
        "#take the average parameter values of the five folds\n",
        "params_mean = np.zeros(59)\n",
        "for i in range(59):\n",
        "  params_mean[i] = (params1[i] + params2[i] + params3[i] + params4[i] + params5[i])/5\n",
        "print(f\"Cross Validated RMS Error: {RME(data, target, params_mean)}\")\n",
        "print(f\"Normal Linear Regression RMS Error: {RME(data,target,params)}\")"
      ],
      "metadata": {
        "colab": {
          "base_uri": "https://localhost:8080/"
        },
        "id": "TebhSeCz_xsy",
        "outputId": "36e1fdab-a9c3-4cb4-a066-cd32f52730e2"
      },
      "execution_count": 11,
      "outputs": [
        {
          "output_type": "stream",
          "name": "stdout",
          "text": [
            "Fold 1 RMS Error: 12953.320171324669\n",
            "Fold 2 RMS Error: 12239.761413595115\n",
            "Fold 3 RMS Error: 15904.998478589145\n",
            "Fold 4 RMS Error: 6448.062377989492\n",
            "Fold 5 RMS Error: 8065.5797471211845\n",
            "Cross Validated RMS Error: 11496.127994612107\n",
            "Normal Linear Regression RMS Error: 11491.736924948345\n"
          ]
        }
      ]
    },
    {
      "cell_type": "markdown",
      "source": [
        "#PART B:\n",
        "Perform feature engineering. Come up with more interesting feature mappings or basis functions\n",
        "for the linear least-squares data fitting or the linear least-squares classifier. For example, try out\n",
        "a stratified model (Chapter 13.3.2) using the results of the k-means clustering you did earlier.\n",
        "Choose the best model using cross-validation and report the RMS error. Make sure to save the\n",
        "model parameters for each fold of the cross-validation. If you are doing classification, report the\n",
        "confusion matrix for the best model you found."
      ],
      "metadata": {
        "id": "F-pUCmQrbAlB"
      }
    },
    {
      "cell_type": "markdown",
      "source": [
        "##Feature Engineering - Product Interactions"
      ],
      "metadata": {
        "id": "r8w0loMMdZiE"
      }
    },
    {
      "cell_type": "markdown",
      "source": [
        "###Determining 5 least significant factors"
      ],
      "metadata": {
        "id": "yp6KylFPf37u"
      }
    },
    {
      "cell_type": "code",
      "source": [
        "#Sort the parameters by magnitude and retrieve the five features that contribute the least\n",
        "params_abs = abs(np.array(params[:58])) #take magnitude of feature parameters\n",
        "#attach the correlating index to teh parameter value\n",
        "indexes = list(range(0,58))\n",
        "stack = np.vstack((indexes, params_abs))\n",
        "#sort by parameter magnitude\n",
        "stack = stack.T\n",
        "sorted = stack[stack[:,1].argsort()]\n",
        "print(sorted[:5])\n",
        "worst_indexes = sorted[:5, 0] #list of indexes of least significant features\n",
        "worst_indexes = worst_indexes.astype(np.int64)"
      ],
      "metadata": {
        "colab": {
          "base_uri": "https://localhost:8080/"
        },
        "id": "Z7uG6jIxbJHt",
        "outputId": "26366fc0-1b92-45c0-fe89-c6bde0d94f1d"
      },
      "execution_count": 26,
      "outputs": [
        {
          "output_type": "stream",
          "name": "stdout",
          "text": [
            "[[31.          0.43554399]\n",
            " [35.         10.367335  ]\n",
            " [53.         17.43081268]\n",
            " [45.         22.70689072]\n",
            " [ 8.         23.18702348]]\n"
          ]
        }
      ]
    },
    {
      "cell_type": "markdown",
      "source": [
        "###Performing Feature Engineering\n",
        "We will be taking the 5 least significant features and multipling them with all other features to create a new feature to see if it is only important when considering another feature."
      ],
      "metadata": {
        "id": "oWf9_XKQmW8U"
      }
    },
    {
      "cell_type": "code",
      "source": [
        "#For each of the 5 least significant features, create a new feature by multiplying it with the 57 other features (creates a total of 285 new features)\n",
        "#B represents a modified A matrix\n",
        "B=data.T\n",
        "print(np.shape(B))\n",
        "i = 0 #i keeps track of which bad index we are on\n",
        "j = 0 #j represents all other features\n",
        "for i in range(5):\n",
        "  bad_index = worst_indexes[i]\n",
        "  for j in range(58):\n",
        "    feature_added = []\n",
        "    if i==j:\n",
        "      continue #irrelevent to consider a non significant feature with itself\n",
        "    else:\n",
        "      for k in range(39644): #k represents all the data points\n",
        "        feature_added.append(B[bad_index,k]*B[j,k])\n",
        "      B = np.vstack((B,feature_added))\n",
        "#newdata represents a modified data matrix\n",
        "newdata = B.T\n",
        "B = np.vstack((B,np.ones(39644)))\n",
        "B = B.T\n",
        "\"\"\"\n",
        "print(np.shape(newdata))\n",
        "print(np.shape(B))\n",
        "print(\"done\")\n",
        "\"\"\""
      ],
      "metadata": {
        "colab": {
          "base_uri": "https://localhost:8080/",
          "height": 52
        },
        "id": "6NQu9aRcmkTW",
        "outputId": "517e620f-5e7d-4573-a480-186182155bca"
      },
      "execution_count": 30,
      "outputs": [
        {
          "output_type": "stream",
          "name": "stdout",
          "text": [
            "(58, 39644)\n"
          ]
        },
        {
          "output_type": "execute_result",
          "data": {
            "text/plain": [
              "'\\nprint(np.shape(newdata))\\nprint(np.shape(B))\\nprint(\"done\")\\n'"
            ],
            "application/vnd.google.colaboratory.intrinsic+json": {
              "type": "string"
            }
          },
          "metadata": {},
          "execution_count": 30
        }
      ]
    },
    {
      "cell_type": "markdown",
      "source": [
        "##Evaluate New Features"
      ],
      "metadata": {
        "id": "kgNn3PUpZxFU"
      }
    },
    {
      "cell_type": "code",
      "source": [
        "def newRME(x_test, y_test, params):\n",
        "  preds = []\n",
        "  data_size = x_test.shape[0]\n",
        "  for i in range(data_size):\n",
        "    pred = np.dot(x_test[i], params[:343]) + params[343]\n",
        "    preds.append(pred)\n",
        "  return math.sqrt((np.sum(np.square(np.subtract(y_test, preds))))/data_size)"
      ],
      "metadata": {
        "id": "URD4JFZRt82H"
      },
      "execution_count": 33,
      "outputs": []
    },
    {
      "cell_type": "code",
      "source": [
        "newparams = np.linalg.lstsq(B, target, rcond=None)[0]\n",
        "\n",
        "\n",
        "#5 folds, indexes: [0-7928, 7929-15857, 15858-23786, 23787-31715, 31716-39643]\n",
        "#fold 1\n",
        "newx_train1 = B[7929:,:]\n",
        "newx_test1 = newdata[:7979,:]\n",
        "newy_train1 = target[7929:]\n",
        "newy_test1 = target[:7979]\n",
        "newparams1 = np.linalg.lstsq(newx_train1, newy_train1, rcond=None)[0]\n",
        "print(f\"New Fold 1 RMS Error: {newRME(newx_test1, newy_test1, newparams1)}\")\n",
        "\n",
        "\n",
        "#fold 2\n",
        "newx_train2 = np.vstack((B[:7929,:], B[15858:,:]))\n",
        "newx_test2 = newdata[7929:15858,:]\n",
        "newy_train2 = np.concatenate((target[:7929], target[15858:]))\n",
        "newy_test2 = target[7929:15858]\n",
        "newparams2 = np.linalg.lstsq(newx_train2, newy_train2, rcond=None)[0]\n",
        "print(f\"New Fold 2 RMS Error: {newRME(newx_test2, newy_test2, newparams2)}\")\n",
        "\n",
        "\n",
        "#fold 3\n",
        "newx_train3 = np.vstack((B[:15858,:], B[23787:,:]))\n",
        "newx_test3 = newdata[15858:23787,:]\n",
        "newy_train3 = np.concatenate((target[:15858], target[23787:]))\n",
        "newy_test3 = target[15858:23787]\n",
        "newparams3 = np.linalg.lstsq(newx_train3, newy_train3, rcond=None)[0]\n",
        "print(f\"New Fold 3 RMS Error: {newRME(newx_test3, newy_test3, newparams3)}\")\n",
        "\n",
        "\n",
        "#fold 4\n",
        "newx_train4 = np.vstack((B[:23787,:], B[31716:,:]))\n",
        "newx_test4 = newdata[23787:31716,:]\n",
        "newy_train4 = np.concatenate((target[:23787], target[31716:]))\n",
        "newy_test4 = target[23787:31716]\n",
        "newparams4 = np.linalg.lstsq(newx_train4, newy_train4, rcond=None)[0]\n",
        "print(f\"New Fold 4 RMS Error: {newRME(newx_test4, newy_test4, newparams4)}\")\n",
        "\n",
        "\n",
        "#fold 5\n",
        "newx_train5 = B[:31716,:]\n",
        "newx_test5 = newdata[31716:,:]\n",
        "newy_train5 = target[:31716]\n",
        "newy_test5 = target[31716:]\n",
        "newparams5 = np.linalg.lstsq(newx_train5, newy_train5, rcond=None)[0]\n",
        "print(f\"New Fold 5 RMS Error: {newRME(newx_test5, newy_test5, newparams5)}\")\n",
        "\n",
        "#take the average parameter value of the five folds\n",
        "newparams_mean = np.zeros(344)\n",
        "for i in range(344):\n",
        " newparams_mean[i] = (newparams1[i] + newparams2[i] + newparams3[i] + newparams4[i] + newparams5[i])/5\n",
        "print(f\"New Cross Validated RMS Error: {newRME(newdata, target, newparams_mean)}\")\n",
        "print(f\"New Linear Regression RMS Error: {newRME(newdata,target,newparams)}\")"
      ],
      "metadata": {
        "colab": {
          "base_uri": "https://localhost:8080/"
        },
        "id": "U7EixNX5qy7J",
        "outputId": "842e8769-234e-4c81-8037-7e5b096c87ab"
      },
      "execution_count": 35,
      "outputs": [
        {
          "output_type": "stream",
          "name": "stdout",
          "text": [
            "New Fold 1 RMS Error: 15793.413283047772\n",
            "New Fold 2 RMS Error: 12375.805830382373\n",
            "New Fold 3 RMS Error: 15960.516358128973\n",
            "New Fold 4 RMS Error: 112515.07525027993\n",
            "New Fold 5 RMS Error: 8171.10216403552\n",
            "New Cross Validated RMS Error: 15240.724350230481\n",
            "New Linear Regression RMS Error: 11428.975821072636\n"
          ]
        }
      ]
    }
  ]
}