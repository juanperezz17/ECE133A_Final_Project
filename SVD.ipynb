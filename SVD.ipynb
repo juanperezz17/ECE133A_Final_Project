{
 "cells": [
  {
   "cell_type": "code",
   "execution_count": null,
   "id": "d9603bad-f44b-4403-b4df-9356a9fef7a2",
   "metadata": {},
   "outputs": [],
   "source": [
    "import numpy as np\n",
    "import scipy as sci\n",
    "\n",
    "#The file 'Stand_Data.csv' generated from 'Standardization.ipynb' is required\n",
    "file_dir = 'Stand_Data.csv'\n",
    "\n",
    "data = np.loadtxt(file_dir, delimiter=',')\n",
    "U, S, Vh = sci.linalg.svd(data)\n",
    "np.savetxt('SVD_U.csv', U, delimiter=',')\n",
    "np.savetxt('SVD_Singular.csv', S, delimiter=',')\n",
    "np.savetxt('SVD_V.csv', Vh, delimiter=',')\n",
    "print(\"Finished\")"
   ]
  }
 ],
 "metadata": {
  "kernelspec": {
   "display_name": "Python 3 (ipykernel)",
   "language": "python",
   "name": "python3"
  },
  "language_info": {
   "codemirror_mode": {
    "name": "ipython",
    "version": 3
   },
   "file_extension": ".py",
   "mimetype": "text/x-python",
   "name": "python",
   "nbconvert_exporter": "python",
   "pygments_lexer": "ipython3",
   "version": "3.10.12"
  }
 },
 "nbformat": 4,
 "nbformat_minor": 5
}
