{
 "cells": [
  {
   "cell_type": "code",
   "execution_count": 19,
   "id": "e4b0e45a-ea13-46a3-9095-937281f6ce9d",
   "metadata": {},
   "outputs": [
    {
     "name": "stdout",
     "output_type": "stream",
     "text": [
      "(39644, 58)\n",
      "Generating standardized data....\n",
      "Generated!\n",
      "(39644, 58)\n"
     ]
    }
   ],
   "source": [
    "import numpy as np\n",
    "\n",
    "#The file 'Cleaned_Data.csv' generated from 'Initial Code.ipynb' is required\n",
    "file_dir = 'Cleaned_Data.csv'\n",
    "\n",
    "data = np.loadtxt(file_dir, delimiter=',')\n",
    "avg_std = np.empty((58,2), dtype = float)\n",
    "\n",
    "print(data.shape)\n",
    "\n",
    "for col in range(58):\n",
    "    feature_vector = data[0:39644,col]\n",
    "    \n",
    "    average = np.average(feature_vector)\n",
    "    std = np.std(feature_vector)\n",
    "    \n",
    "    avg_std[col][0] = average\n",
    "    avg_std[col][1] = std\n",
    "    \n",
    "    stand_vector = (feature_vector - average) / std\n",
    "    for row in range(39644):\n",
    "        data[row,col] = stand_vector[row]\n",
    "\n",
    "#Verifying that the features have been standardized\n",
    "for col in range(58):\n",
    "    feature_vector = data[0:39644,col]\n",
    "    average = np.average(feature_vector)\n",
    "    std = np.std(feature_vector)\n",
    "\n",
    "    if average > 0.00001 or average < -0.000001:\n",
    "        print(\"Average is nonzero!\")\n",
    "    if std >= 1.000001 or std <= .99999999:\n",
    "        print(\"Standard dev is non-one!\")\n",
    "\n",
    "print(\"Generating standardized data....\")\n",
    "np.savetxt('Stand_Data.csv', data, delimiter=',')\n",
    "np.savetxt('Average_STD_data.csv', avg_std, delimiter=',')\n",
    "print(\"Generated!\")\n",
    "print(data.shape)"
   ]
  }
 ],
 "metadata": {
  "kernelspec": {
   "display_name": "Python 3 (ipykernel)",
   "language": "python",
   "name": "python3"
  },
  "language_info": {
   "codemirror_mode": {
    "name": "ipython",
    "version": 3
   },
   "file_extension": ".py",
   "mimetype": "text/x-python",
   "name": "python",
   "nbconvert_exporter": "python",
   "pygments_lexer": "ipython3",
   "version": "3.10.12"
  }
 },
 "nbformat": 4,
 "nbformat_minor": 5
}
