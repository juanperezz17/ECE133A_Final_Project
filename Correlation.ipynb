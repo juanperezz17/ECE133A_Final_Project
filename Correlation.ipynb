{
 "cells": [
  {
   "cell_type": "code",
   "execution_count": null,
   "id": "302a5ed8-0738-4a9d-9436-a5f1dd8a59a9",
   "metadata": {},
   "outputs": [],
   "source": [
    "import numpy as np\n",
    "\n",
    "#The file 'Stand_Data.csv' generated from 'Standardization.ipynb' is required\n",
    "file_dir = 'Stand_Data.csv'\n",
    "\n",
    "data = np.loadtxt(file_dir, delimiter=',')\n",
    "correlation_matrix = np.empty((58,58), dtype = float)\n",
    "\n",
    "def dot(v,w):\n",
    "    ac = 0\n",
    "    for i in range(39644):\n",
    "        ac += v[i] * w[i]\n",
    "    return ac\n",
    "\n",
    "for i in range(58):\n",
    "    ith_column = data[0:39644,i]\n",
    "    for j in range(58):\n",
    "        jth_column = data[0:39644,j]\n",
    "        inner_product = np.dot(ith_column,jth_column)\n",
    "        correlation_matrix[i,j] = inner_product / 39644\n",
    "\n",
    "np.savetxt('Correlation_Matrix.csv', correlation_matrix, delimiter=',')\n",
    "print(\"Generated\")\n",
    "print(correlation_matrix.shape)"
   ]
  }
 ],
 "metadata": {
  "kernelspec": {
   "display_name": "Python 3 (ipykernel)",
   "language": "python",
   "name": "python3"
  },
  "language_info": {
   "codemirror_mode": {
    "name": "ipython",
    "version": 3
   },
   "file_extension": ".py",
   "mimetype": "text/x-python",
   "name": "python",
   "nbconvert_exporter": "python",
   "pygments_lexer": "ipython3",
   "version": "3.10.12"
  }
 },
 "nbformat": 4,
 "nbformat_minor": 5
}
